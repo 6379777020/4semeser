{
 "cells": [
  {
   "cell_type": "code",
   "execution_count": 1,
   "id": "35920b2c",
   "metadata": {},
   "outputs": [],
   "source": [
    "import numpy as np\n",
    "import pandas as pd"
   ]
  },
  {
   "cell_type": "code",
   "execution_count": 2,
   "id": "636d0897",
   "metadata": {},
   "outputs": [],
   "source": [
    "cot_num =pd.DataFrame(np.random.rand(15,1),columns = ['Random'])"
   ]
  },
  {
   "cell_type": "code",
   "execution_count": 3,
   "id": "04d5fc08",
   "metadata": {},
   "outputs": [
    {
     "data": {
      "text/html": [
       "<div>\n",
       "<style scoped>\n",
       "    .dataframe tbody tr th:only-of-type {\n",
       "        vertical-align: middle;\n",
       "    }\n",
       "\n",
       "    .dataframe tbody tr th {\n",
       "        vertical-align: top;\n",
       "    }\n",
       "\n",
       "    .dataframe thead th {\n",
       "        text-align: right;\n",
       "    }\n",
       "</style>\n",
       "<table border=\"1\" class=\"dataframe\">\n",
       "  <thead>\n",
       "    <tr style=\"text-align: right;\">\n",
       "      <th></th>\n",
       "      <th>Random</th>\n",
       "    </tr>\n",
       "  </thead>\n",
       "  <tbody>\n",
       "    <tr>\n",
       "      <th>0</th>\n",
       "      <td>0.063578</td>\n",
       "    </tr>\n",
       "    <tr>\n",
       "      <th>1</th>\n",
       "      <td>0.401310</td>\n",
       "    </tr>\n",
       "    <tr>\n",
       "      <th>2</th>\n",
       "      <td>0.875917</td>\n",
       "    </tr>\n",
       "    <tr>\n",
       "      <th>3</th>\n",
       "      <td>0.052584</td>\n",
       "    </tr>\n",
       "    <tr>\n",
       "      <th>4</th>\n",
       "      <td>0.805392</td>\n",
       "    </tr>\n",
       "    <tr>\n",
       "      <th>5</th>\n",
       "      <td>0.356488</td>\n",
       "    </tr>\n",
       "    <tr>\n",
       "      <th>6</th>\n",
       "      <td>0.164908</td>\n",
       "    </tr>\n",
       "    <tr>\n",
       "      <th>7</th>\n",
       "      <td>0.991386</td>\n",
       "    </tr>\n",
       "    <tr>\n",
       "      <th>8</th>\n",
       "      <td>0.765618</td>\n",
       "    </tr>\n",
       "    <tr>\n",
       "      <th>9</th>\n",
       "      <td>0.500154</td>\n",
       "    </tr>\n",
       "    <tr>\n",
       "      <th>10</th>\n",
       "      <td>0.159893</td>\n",
       "    </tr>\n",
       "    <tr>\n",
       "      <th>11</th>\n",
       "      <td>0.422641</td>\n",
       "    </tr>\n",
       "    <tr>\n",
       "      <th>12</th>\n",
       "      <td>0.758610</td>\n",
       "    </tr>\n",
       "    <tr>\n",
       "      <th>13</th>\n",
       "      <td>0.936848</td>\n",
       "    </tr>\n",
       "    <tr>\n",
       "      <th>14</th>\n",
       "      <td>0.096401</td>\n",
       "    </tr>\n",
       "  </tbody>\n",
       "</table>\n",
       "</div>"
      ],
      "text/plain": [
       "      Random\n",
       "0   0.063578\n",
       "1   0.401310\n",
       "2   0.875917\n",
       "3   0.052584\n",
       "4   0.805392\n",
       "5   0.356488\n",
       "6   0.164908\n",
       "7   0.991386\n",
       "8   0.765618\n",
       "9   0.500154\n",
       "10  0.159893\n",
       "11  0.422641\n",
       "12  0.758610\n",
       "13  0.936848\n",
       "14  0.096401"
      ]
     },
     "execution_count": 3,
     "metadata": {},
     "output_type": "execute_result"
    }
   ],
   "source": [
    "cot_num"
   ]
  },
  {
   "cell_type": "code",
   "execution_count": 4,
   "id": "336cc12f",
   "metadata": {},
   "outputs": [],
   "source": [
    "disc_num =pd.DataFrame(np.random.randint(0,2,15),columns = ['Discrete'])"
   ]
  },
  {
   "cell_type": "code",
   "execution_count": 5,
   "id": "1d9d3183",
   "metadata": {},
   "outputs": [
    {
     "data": {
      "text/html": [
       "<div>\n",
       "<style scoped>\n",
       "    .dataframe tbody tr th:only-of-type {\n",
       "        vertical-align: middle;\n",
       "    }\n",
       "\n",
       "    .dataframe tbody tr th {\n",
       "        vertical-align: top;\n",
       "    }\n",
       "\n",
       "    .dataframe thead th {\n",
       "        text-align: right;\n",
       "    }\n",
       "</style>\n",
       "<table border=\"1\" class=\"dataframe\">\n",
       "  <thead>\n",
       "    <tr style=\"text-align: right;\">\n",
       "      <th></th>\n",
       "      <th>Discrete</th>\n",
       "    </tr>\n",
       "  </thead>\n",
       "  <tbody>\n",
       "    <tr>\n",
       "      <th>0</th>\n",
       "      <td>0</td>\n",
       "    </tr>\n",
       "    <tr>\n",
       "      <th>1</th>\n",
       "      <td>1</td>\n",
       "    </tr>\n",
       "    <tr>\n",
       "      <th>2</th>\n",
       "      <td>1</td>\n",
       "    </tr>\n",
       "    <tr>\n",
       "      <th>3</th>\n",
       "      <td>0</td>\n",
       "    </tr>\n",
       "    <tr>\n",
       "      <th>4</th>\n",
       "      <td>1</td>\n",
       "    </tr>\n",
       "    <tr>\n",
       "      <th>5</th>\n",
       "      <td>1</td>\n",
       "    </tr>\n",
       "    <tr>\n",
       "      <th>6</th>\n",
       "      <td>1</td>\n",
       "    </tr>\n",
       "    <tr>\n",
       "      <th>7</th>\n",
       "      <td>1</td>\n",
       "    </tr>\n",
       "    <tr>\n",
       "      <th>8</th>\n",
       "      <td>1</td>\n",
       "    </tr>\n",
       "    <tr>\n",
       "      <th>9</th>\n",
       "      <td>0</td>\n",
       "    </tr>\n",
       "    <tr>\n",
       "      <th>10</th>\n",
       "      <td>1</td>\n",
       "    </tr>\n",
       "    <tr>\n",
       "      <th>11</th>\n",
       "      <td>1</td>\n",
       "    </tr>\n",
       "    <tr>\n",
       "      <th>12</th>\n",
       "      <td>0</td>\n",
       "    </tr>\n",
       "    <tr>\n",
       "      <th>13</th>\n",
       "      <td>0</td>\n",
       "    </tr>\n",
       "    <tr>\n",
       "      <th>14</th>\n",
       "      <td>1</td>\n",
       "    </tr>\n",
       "  </tbody>\n",
       "</table>\n",
       "</div>"
      ],
      "text/plain": [
       "    Discrete\n",
       "0          0\n",
       "1          1\n",
       "2          1\n",
       "3          0\n",
       "4          1\n",
       "5          1\n",
       "6          1\n",
       "7          1\n",
       "8          1\n",
       "9          0\n",
       "10         1\n",
       "11         1\n",
       "12         0\n",
       "13         0\n",
       "14         1"
      ]
     },
     "execution_count": 5,
     "metadata": {},
     "output_type": "execute_result"
    }
   ],
   "source": [
    "disc_num"
   ]
  },
  {
   "cell_type": "code",
   "execution_count": 6,
   "id": "949a6cb2",
   "metadata": {},
   "outputs": [],
   "source": [
    "disc_num1 =pd.DataFrame(np.random.randint(0,1,15),columns = ['Discrete'])"
   ]
  },
  {
   "cell_type": "code",
   "execution_count": 7,
   "id": "89fb0042",
   "metadata": {},
   "outputs": [
    {
     "data": {
      "text/html": [
       "<div>\n",
       "<style scoped>\n",
       "    .dataframe tbody tr th:only-of-type {\n",
       "        vertical-align: middle;\n",
       "    }\n",
       "\n",
       "    .dataframe tbody tr th {\n",
       "        vertical-align: top;\n",
       "    }\n",
       "\n",
       "    .dataframe thead th {\n",
       "        text-align: right;\n",
       "    }\n",
       "</style>\n",
       "<table border=\"1\" class=\"dataframe\">\n",
       "  <thead>\n",
       "    <tr style=\"text-align: right;\">\n",
       "      <th></th>\n",
       "      <th>Discrete</th>\n",
       "    </tr>\n",
       "  </thead>\n",
       "  <tbody>\n",
       "    <tr>\n",
       "      <th>0</th>\n",
       "      <td>0</td>\n",
       "    </tr>\n",
       "    <tr>\n",
       "      <th>1</th>\n",
       "      <td>0</td>\n",
       "    </tr>\n",
       "    <tr>\n",
       "      <th>2</th>\n",
       "      <td>0</td>\n",
       "    </tr>\n",
       "    <tr>\n",
       "      <th>3</th>\n",
       "      <td>0</td>\n",
       "    </tr>\n",
       "    <tr>\n",
       "      <th>4</th>\n",
       "      <td>0</td>\n",
       "    </tr>\n",
       "    <tr>\n",
       "      <th>5</th>\n",
       "      <td>0</td>\n",
       "    </tr>\n",
       "    <tr>\n",
       "      <th>6</th>\n",
       "      <td>0</td>\n",
       "    </tr>\n",
       "    <tr>\n",
       "      <th>7</th>\n",
       "      <td>0</td>\n",
       "    </tr>\n",
       "    <tr>\n",
       "      <th>8</th>\n",
       "      <td>0</td>\n",
       "    </tr>\n",
       "    <tr>\n",
       "      <th>9</th>\n",
       "      <td>0</td>\n",
       "    </tr>\n",
       "    <tr>\n",
       "      <th>10</th>\n",
       "      <td>0</td>\n",
       "    </tr>\n",
       "    <tr>\n",
       "      <th>11</th>\n",
       "      <td>0</td>\n",
       "    </tr>\n",
       "    <tr>\n",
       "      <th>12</th>\n",
       "      <td>0</td>\n",
       "    </tr>\n",
       "    <tr>\n",
       "      <th>13</th>\n",
       "      <td>0</td>\n",
       "    </tr>\n",
       "    <tr>\n",
       "      <th>14</th>\n",
       "      <td>0</td>\n",
       "    </tr>\n",
       "  </tbody>\n",
       "</table>\n",
       "</div>"
      ],
      "text/plain": [
       "    Discrete\n",
       "0          0\n",
       "1          0\n",
       "2          0\n",
       "3          0\n",
       "4          0\n",
       "5          0\n",
       "6          0\n",
       "7          0\n",
       "8          0\n",
       "9          0\n",
       "10         0\n",
       "11         0\n",
       "12         0\n",
       "13         0\n",
       "14         0"
      ]
     },
     "execution_count": 7,
     "metadata": {},
     "output_type": "execute_result"
    }
   ],
   "source": [
    "disc_num1"
   ]
  },
  {
   "cell_type": "code",
   "execution_count": 8,
   "id": "32cc6bb0",
   "metadata": {},
   "outputs": [],
   "source": [
    "ordinal = pd.DataFrame({'salary':[18000,37000,79000,41000],\n",
    "                       'class':['low','low','medium','high']})"
   ]
  },
  {
   "cell_type": "code",
   "execution_count": 9,
   "id": "efb2e092",
   "metadata": {},
   "outputs": [
    {
     "data": {
      "text/html": [
       "<div>\n",
       "<style scoped>\n",
       "    .dataframe tbody tr th:only-of-type {\n",
       "        vertical-align: middle;\n",
       "    }\n",
       "\n",
       "    .dataframe tbody tr th {\n",
       "        vertical-align: top;\n",
       "    }\n",
       "\n",
       "    .dataframe thead th {\n",
       "        text-align: right;\n",
       "    }\n",
       "</style>\n",
       "<table border=\"1\" class=\"dataframe\">\n",
       "  <thead>\n",
       "    <tr style=\"text-align: right;\">\n",
       "      <th></th>\n",
       "      <th>salary</th>\n",
       "      <th>class</th>\n",
       "    </tr>\n",
       "  </thead>\n",
       "  <tbody>\n",
       "    <tr>\n",
       "      <th>0</th>\n",
       "      <td>18000</td>\n",
       "      <td>low</td>\n",
       "    </tr>\n",
       "    <tr>\n",
       "      <th>1</th>\n",
       "      <td>37000</td>\n",
       "      <td>low</td>\n",
       "    </tr>\n",
       "    <tr>\n",
       "      <th>2</th>\n",
       "      <td>79000</td>\n",
       "      <td>medium</td>\n",
       "    </tr>\n",
       "    <tr>\n",
       "      <th>3</th>\n",
       "      <td>41000</td>\n",
       "      <td>high</td>\n",
       "    </tr>\n",
       "  </tbody>\n",
       "</table>\n",
       "</div>"
      ],
      "text/plain": [
       "   salary   class\n",
       "0   18000     low\n",
       "1   37000     low\n",
       "2   79000  medium\n",
       "3   41000    high"
      ]
     },
     "execution_count": 9,
     "metadata": {},
     "output_type": "execute_result"
    }
   ],
   "source": [
    "ordinal"
   ]
  },
  {
   "cell_type": "markdown",
   "id": "b1529dc2",
   "metadata": {},
   "source": [
    "# creating nomial"
   ]
  },
  {
   "cell_type": "code",
   "execution_count": 10,
   "id": "077fea49",
   "metadata": {},
   "outputs": [],
   "source": [
    "nominal = pd.DataFrame({'age':[23,45,7,55],'gender':['male','female','male','female']})"
   ]
  },
  {
   "cell_type": "code",
   "execution_count": 11,
   "id": "9cef16c0",
   "metadata": {},
   "outputs": [
    {
     "data": {
      "text/html": [
       "<div>\n",
       "<style scoped>\n",
       "    .dataframe tbody tr th:only-of-type {\n",
       "        vertical-align: middle;\n",
       "    }\n",
       "\n",
       "    .dataframe tbody tr th {\n",
       "        vertical-align: top;\n",
       "    }\n",
       "\n",
       "    .dataframe thead th {\n",
       "        text-align: right;\n",
       "    }\n",
       "</style>\n",
       "<table border=\"1\" class=\"dataframe\">\n",
       "  <thead>\n",
       "    <tr style=\"text-align: right;\">\n",
       "      <th></th>\n",
       "      <th>age</th>\n",
       "      <th>gender</th>\n",
       "    </tr>\n",
       "  </thead>\n",
       "  <tbody>\n",
       "    <tr>\n",
       "      <th>0</th>\n",
       "      <td>23</td>\n",
       "      <td>male</td>\n",
       "    </tr>\n",
       "    <tr>\n",
       "      <th>1</th>\n",
       "      <td>45</td>\n",
       "      <td>female</td>\n",
       "    </tr>\n",
       "    <tr>\n",
       "      <th>2</th>\n",
       "      <td>7</td>\n",
       "      <td>male</td>\n",
       "    </tr>\n",
       "    <tr>\n",
       "      <th>3</th>\n",
       "      <td>55</td>\n",
       "      <td>female</td>\n",
       "    </tr>\n",
       "  </tbody>\n",
       "</table>\n",
       "</div>"
      ],
      "text/plain": [
       "   age  gender\n",
       "0   23    male\n",
       "1   45  female\n",
       "2    7    male\n",
       "3   55  female"
      ]
     },
     "execution_count": 11,
     "metadata": {},
     "output_type": "execute_result"
    }
   ],
   "source": [
    "nominal"
   ]
  },
  {
   "cell_type": "markdown",
   "id": "447a51c8",
   "metadata": {},
   "source": [
    "# importind Data"
   ]
  },
  {
   "cell_type": "code",
   "execution_count": 12,
   "id": "31b6d420",
   "metadata": {},
   "outputs": [],
   "source": [
    "dataset = pd.read_csv('Data.csv')"
   ]
  },
  {
   "cell_type": "code",
   "execution_count": 13,
   "id": "d15674f6",
   "metadata": {},
   "outputs": [
    {
     "data": {
      "text/html": [
       "<div>\n",
       "<style scoped>\n",
       "    .dataframe tbody tr th:only-of-type {\n",
       "        vertical-align: middle;\n",
       "    }\n",
       "\n",
       "    .dataframe tbody tr th {\n",
       "        vertical-align: top;\n",
       "    }\n",
       "\n",
       "    .dataframe thead th {\n",
       "        text-align: right;\n",
       "    }\n",
       "</style>\n",
       "<table border=\"1\" class=\"dataframe\">\n",
       "  <thead>\n",
       "    <tr style=\"text-align: right;\">\n",
       "      <th></th>\n",
       "      <th>Country</th>\n",
       "      <th>Age</th>\n",
       "      <th>Salary</th>\n",
       "      <th>Purchased</th>\n",
       "    </tr>\n",
       "  </thead>\n",
       "  <tbody>\n",
       "    <tr>\n",
       "      <th>0</th>\n",
       "      <td>France</td>\n",
       "      <td>44.0</td>\n",
       "      <td>72000.0</td>\n",
       "      <td>No</td>\n",
       "    </tr>\n",
       "    <tr>\n",
       "      <th>1</th>\n",
       "      <td>Spain</td>\n",
       "      <td>27.0</td>\n",
       "      <td>48000.0</td>\n",
       "      <td>Yes</td>\n",
       "    </tr>\n",
       "    <tr>\n",
       "      <th>2</th>\n",
       "      <td>Germany</td>\n",
       "      <td>30.0</td>\n",
       "      <td>54000.0</td>\n",
       "      <td>No</td>\n",
       "    </tr>\n",
       "    <tr>\n",
       "      <th>3</th>\n",
       "      <td>Spain</td>\n",
       "      <td>38.0</td>\n",
       "      <td>61000.0</td>\n",
       "      <td>No</td>\n",
       "    </tr>\n",
       "    <tr>\n",
       "      <th>4</th>\n",
       "      <td>Germany</td>\n",
       "      <td>40.0</td>\n",
       "      <td>NaN</td>\n",
       "      <td>Yes</td>\n",
       "    </tr>\n",
       "    <tr>\n",
       "      <th>5</th>\n",
       "      <td>France</td>\n",
       "      <td>35.0</td>\n",
       "      <td>58000.0</td>\n",
       "      <td>Yes</td>\n",
       "    </tr>\n",
       "    <tr>\n",
       "      <th>6</th>\n",
       "      <td>Spain</td>\n",
       "      <td>55.0</td>\n",
       "      <td>52000.0</td>\n",
       "      <td>No</td>\n",
       "    </tr>\n",
       "    <tr>\n",
       "      <th>7</th>\n",
       "      <td>France</td>\n",
       "      <td>NaN</td>\n",
       "      <td>NaN</td>\n",
       "      <td>Yes</td>\n",
       "    </tr>\n",
       "    <tr>\n",
       "      <th>8</th>\n",
       "      <td>Germany</td>\n",
       "      <td>NaN</td>\n",
       "      <td>NaN</td>\n",
       "      <td>No</td>\n",
       "    </tr>\n",
       "    <tr>\n",
       "      <th>9</th>\n",
       "      <td>France</td>\n",
       "      <td>37.0</td>\n",
       "      <td>67000.0</td>\n",
       "      <td>Yes</td>\n",
       "    </tr>\n",
       "  </tbody>\n",
       "</table>\n",
       "</div>"
      ],
      "text/plain": [
       "   Country   Age   Salary Purchased\n",
       "0   France  44.0  72000.0        No\n",
       "1    Spain  27.0  48000.0       Yes\n",
       "2  Germany  30.0  54000.0        No\n",
       "3    Spain  38.0  61000.0        No\n",
       "4  Germany  40.0      NaN       Yes\n",
       "5   France  35.0  58000.0       Yes\n",
       "6    Spain  55.0  52000.0        No\n",
       "7   France   NaN      NaN       Yes\n",
       "8  Germany   NaN      NaN        No\n",
       "9   France  37.0  67000.0       Yes"
      ]
     },
     "execution_count": 13,
     "metadata": {},
     "output_type": "execute_result"
    }
   ],
   "source": [
    "dataset"
   ]
  },
  {
   "cell_type": "markdown",
   "id": "5bc7528f",
   "metadata": {},
   "source": [
    "# Reshaping dataset to dataFrame"
   ]
  },
  {
   "cell_type": "code",
   "execution_count": 14,
   "id": "e265df39",
   "metadata": {},
   "outputs": [],
   "source": [
    "x = dataset.iloc[:,:-1].values\n",
    "y = dataset.iloc[:,-1].values"
   ]
  },
  {
   "cell_type": "code",
   "execution_count": 15,
   "id": "9a69e02b",
   "metadata": {},
   "outputs": [
    {
     "data": {
      "text/plain": [
       "array([['France', 44.0, 72000.0],\n",
       "       ['Spain', 27.0, 48000.0],\n",
       "       ['Germany', 30.0, 54000.0],\n",
       "       ['Spain', 38.0, 61000.0],\n",
       "       ['Germany', 40.0, nan],\n",
       "       ['France', 35.0, 58000.0],\n",
       "       ['Spain', 55.0, 52000.0],\n",
       "       ['France', nan, nan],\n",
       "       ['Germany', nan, nan],\n",
       "       ['France', 37.0, 67000.0]], dtype=object)"
      ]
     },
     "execution_count": 15,
     "metadata": {},
     "output_type": "execute_result"
    }
   ],
   "source": [
    "x"
   ]
  },
  {
   "cell_type": "code",
   "execution_count": 16,
   "id": "d1041c89",
   "metadata": {},
   "outputs": [
    {
     "data": {
      "text/plain": [
       "array(['No', 'Yes', 'No', 'No', 'Yes', 'Yes', 'No', 'Yes', 'No', 'Yes'],\n",
       "      dtype=object)"
      ]
     },
     "execution_count": 16,
     "metadata": {},
     "output_type": "execute_result"
    }
   ],
   "source": [
    "y"
   ]
  },
  {
   "cell_type": "markdown",
   "id": "a35b64ab",
   "metadata": {},
   "source": [
    "# finding null "
   ]
  },
  {
   "cell_type": "code",
   "execution_count": 17,
   "id": "ee913ce6",
   "metadata": {},
   "outputs": [
    {
     "data": {
      "text/plain": [
       "Country      0\n",
       "Age          2\n",
       "Salary       3\n",
       "Purchased    0\n",
       "dtype: int64"
      ]
     },
     "execution_count": 17,
     "metadata": {},
     "output_type": "execute_result"
    }
   ],
   "source": [
    "dataset.isnull().sum()"
   ]
  },
  {
   "cell_type": "code",
   "execution_count": 18,
   "id": "0e8ce016",
   "metadata": {},
   "outputs": [],
   "source": [
    "from sklearn.impute import SimpleImputer"
   ]
  },
  {
   "cell_type": "code",
   "execution_count": 19,
   "id": "adc32de8",
   "metadata": {},
   "outputs": [],
   "source": [
    "imputer = SimpleImputer(missing_values=np.nan, strategy='mean')"
   ]
  },
  {
   "cell_type": "code",
   "execution_count": 20,
   "id": "bc47a7bb",
   "metadata": {},
   "outputs": [
    {
     "data": {
      "text/plain": [
       "SimpleImputer()"
      ]
     },
     "execution_count": 20,
     "metadata": {},
     "output_type": "execute_result"
    }
   ],
   "source": [
    "imputer.fit(x[:,1:3])"
   ]
  },
  {
   "cell_type": "code",
   "execution_count": 21,
   "id": "63d7bf46",
   "metadata": {},
   "outputs": [],
   "source": [
    "x[:,1:3] = imputer.transform(x[:,1:3])"
   ]
  },
  {
   "cell_type": "code",
   "execution_count": 22,
   "id": "a0b56044",
   "metadata": {},
   "outputs": [
    {
     "name": "stdout",
     "output_type": "stream",
     "text": [
      "[['France' 44.0 72000.0]\n",
      " ['Spain' 27.0 48000.0]\n",
      " ['Germany' 30.0 54000.0]\n",
      " ['Spain' 38.0 61000.0]\n",
      " ['Germany' 40.0 58857.142857142855]\n",
      " ['France' 35.0 58000.0]\n",
      " ['Spain' 55.0 52000.0]\n",
      " ['France' 38.25 58857.142857142855]\n",
      " ['Germany' 38.25 58857.142857142855]\n",
      " ['France' 37.0 67000.0]]\n"
     ]
    }
   ],
   "source": [
    "print(x)"
   ]
  },
  {
   "cell_type": "code",
   "execution_count": 23,
   "id": "fa123d45",
   "metadata": {},
   "outputs": [],
   "source": [
    "import pandas as pd"
   ]
  },
  {
   "cell_type": "code",
   "execution_count": 24,
   "id": "8cb0db78",
   "metadata": {},
   "outputs": [],
   "source": [
    "from sklearn.preprocessing import LabelEncoder"
   ]
  },
  {
   "cell_type": "code",
   "execution_count": 25,
   "id": "e7f54d8f",
   "metadata": {},
   "outputs": [],
   "source": [
    "salary_class = pd.DataFrame({'salary':[18000,37000,79000,41000,75000],'class':['low','low','medium','low','high']})"
   ]
  },
  {
   "cell_type": "code",
   "execution_count": 26,
   "id": "534db273",
   "metadata": {},
   "outputs": [
    {
     "data": {
      "text/html": [
       "<div>\n",
       "<style scoped>\n",
       "    .dataframe tbody tr th:only-of-type {\n",
       "        vertical-align: middle;\n",
       "    }\n",
       "\n",
       "    .dataframe tbody tr th {\n",
       "        vertical-align: top;\n",
       "    }\n",
       "\n",
       "    .dataframe thead th {\n",
       "        text-align: right;\n",
       "    }\n",
       "</style>\n",
       "<table border=\"1\" class=\"dataframe\">\n",
       "  <thead>\n",
       "    <tr style=\"text-align: right;\">\n",
       "      <th></th>\n",
       "      <th>salary</th>\n",
       "      <th>class</th>\n",
       "    </tr>\n",
       "  </thead>\n",
       "  <tbody>\n",
       "    <tr>\n",
       "      <th>0</th>\n",
       "      <td>18000</td>\n",
       "      <td>low</td>\n",
       "    </tr>\n",
       "    <tr>\n",
       "      <th>1</th>\n",
       "      <td>37000</td>\n",
       "      <td>low</td>\n",
       "    </tr>\n",
       "    <tr>\n",
       "      <th>2</th>\n",
       "      <td>79000</td>\n",
       "      <td>medium</td>\n",
       "    </tr>\n",
       "    <tr>\n",
       "      <th>3</th>\n",
       "      <td>41000</td>\n",
       "      <td>low</td>\n",
       "    </tr>\n",
       "    <tr>\n",
       "      <th>4</th>\n",
       "      <td>75000</td>\n",
       "      <td>high</td>\n",
       "    </tr>\n",
       "  </tbody>\n",
       "</table>\n",
       "</div>"
      ],
      "text/plain": [
       "   salary   class\n",
       "0   18000     low\n",
       "1   37000     low\n",
       "2   79000  medium\n",
       "3   41000     low\n",
       "4   75000    high"
      ]
     },
     "execution_count": 26,
     "metadata": {},
     "output_type": "execute_result"
    }
   ],
   "source": [
    "salary_class"
   ]
  },
  {
   "cell_type": "code",
   "execution_count": 27,
   "id": "a8bd042d",
   "metadata": {},
   "outputs": [],
   "source": [
    "lab_encode = LabelEncoder()"
   ]
  },
  {
   "cell_type": "code",
   "execution_count": 28,
   "id": "95170df7",
   "metadata": {},
   "outputs": [],
   "source": [
    "salary_class['class'] = lab_encode.fit_transform(salary_class['class'])"
   ]
  },
  {
   "cell_type": "code",
   "execution_count": 29,
   "id": "6963470f",
   "metadata": {},
   "outputs": [
    {
     "data": {
      "text/html": [
       "<div>\n",
       "<style scoped>\n",
       "    .dataframe tbody tr th:only-of-type {\n",
       "        vertical-align: middle;\n",
       "    }\n",
       "\n",
       "    .dataframe tbody tr th {\n",
       "        vertical-align: top;\n",
       "    }\n",
       "\n",
       "    .dataframe thead th {\n",
       "        text-align: right;\n",
       "    }\n",
       "</style>\n",
       "<table border=\"1\" class=\"dataframe\">\n",
       "  <thead>\n",
       "    <tr style=\"text-align: right;\">\n",
       "      <th></th>\n",
       "      <th>salary</th>\n",
       "      <th>class</th>\n",
       "    </tr>\n",
       "  </thead>\n",
       "  <tbody>\n",
       "    <tr>\n",
       "      <th>0</th>\n",
       "      <td>18000</td>\n",
       "      <td>1</td>\n",
       "    </tr>\n",
       "    <tr>\n",
       "      <th>1</th>\n",
       "      <td>37000</td>\n",
       "      <td>1</td>\n",
       "    </tr>\n",
       "    <tr>\n",
       "      <th>2</th>\n",
       "      <td>79000</td>\n",
       "      <td>2</td>\n",
       "    </tr>\n",
       "    <tr>\n",
       "      <th>3</th>\n",
       "      <td>41000</td>\n",
       "      <td>1</td>\n",
       "    </tr>\n",
       "    <tr>\n",
       "      <th>4</th>\n",
       "      <td>75000</td>\n",
       "      <td>0</td>\n",
       "    </tr>\n",
       "  </tbody>\n",
       "</table>\n",
       "</div>"
      ],
      "text/plain": [
       "   salary  class\n",
       "0   18000      1\n",
       "1   37000      1\n",
       "2   79000      2\n",
       "3   41000      1\n",
       "4   75000      0"
      ]
     },
     "execution_count": 29,
     "metadata": {},
     "output_type": "execute_result"
    }
   ],
   "source": [
    "salary_class"
   ]
  },
  {
   "cell_type": "markdown",
   "id": "42749087",
   "metadata": {},
   "source": [
    "# Unique data"
   ]
  },
  {
   "cell_type": "code",
   "execution_count": 30,
   "id": "39b91b16",
   "metadata": {},
   "outputs": [],
   "source": [
    "salary_class = pd.DataFrame({'salary':[18000,37000,79000,41000,75000],'Class':['low','low','medium','low','high']})"
   ]
  },
  {
   "cell_type": "code",
   "execution_count": 31,
   "id": "bf0d7fc3",
   "metadata": {},
   "outputs": [
    {
     "data": {
      "text/html": [
       "<div>\n",
       "<style scoped>\n",
       "    .dataframe tbody tr th:only-of-type {\n",
       "        vertical-align: middle;\n",
       "    }\n",
       "\n",
       "    .dataframe tbody tr th {\n",
       "        vertical-align: top;\n",
       "    }\n",
       "\n",
       "    .dataframe thead th {\n",
       "        text-align: right;\n",
       "    }\n",
       "</style>\n",
       "<table border=\"1\" class=\"dataframe\">\n",
       "  <thead>\n",
       "    <tr style=\"text-align: right;\">\n",
       "      <th></th>\n",
       "      <th>salary</th>\n",
       "      <th>Class</th>\n",
       "    </tr>\n",
       "  </thead>\n",
       "  <tbody>\n",
       "    <tr>\n",
       "      <th>0</th>\n",
       "      <td>18000</td>\n",
       "      <td>low</td>\n",
       "    </tr>\n",
       "    <tr>\n",
       "      <th>1</th>\n",
       "      <td>37000</td>\n",
       "      <td>low</td>\n",
       "    </tr>\n",
       "    <tr>\n",
       "      <th>2</th>\n",
       "      <td>79000</td>\n",
       "      <td>medium</td>\n",
       "    </tr>\n",
       "    <tr>\n",
       "      <th>3</th>\n",
       "      <td>41000</td>\n",
       "      <td>low</td>\n",
       "    </tr>\n",
       "    <tr>\n",
       "      <th>4</th>\n",
       "      <td>75000</td>\n",
       "      <td>high</td>\n",
       "    </tr>\n",
       "  </tbody>\n",
       "</table>\n",
       "</div>"
      ],
      "text/plain": [
       "   salary   Class\n",
       "0   18000     low\n",
       "1   37000     low\n",
       "2   79000  medium\n",
       "3   41000     low\n",
       "4   75000    high"
      ]
     },
     "execution_count": 31,
     "metadata": {},
     "output_type": "execute_result"
    }
   ],
   "source": [
    "salary_class"
   ]
  },
  {
   "cell_type": "code",
   "execution_count": 32,
   "id": "060d2889",
   "metadata": {},
   "outputs": [
    {
     "data": {
      "text/plain": [
       "array(['low', 'medium', 'high'], dtype=object)"
      ]
     },
     "execution_count": 32,
     "metadata": {},
     "output_type": "execute_result"
    }
   ],
   "source": [
    "salary_class.Class.unique()"
   ]
  },
  {
   "cell_type": "markdown",
   "id": "a283f29f",
   "metadata": {},
   "source": [
    "# Create Order"
   ]
  },
  {
   "cell_type": "code",
   "execution_count": 33,
   "id": "5709d868",
   "metadata": {},
   "outputs": [],
   "source": [
    "order = ['low','high','medium']"
   ]
  },
  {
   "cell_type": "code",
   "execution_count": 34,
   "id": "1ede5951",
   "metadata": {},
   "outputs": [
    {
     "data": {
      "text/plain": [
       "['low', 'high', 'medium']"
      ]
     },
     "execution_count": 34,
     "metadata": {},
     "output_type": "execute_result"
    }
   ],
   "source": [
    "order"
   ]
  },
  {
   "cell_type": "code",
   "execution_count": 35,
   "id": "506ca2ce",
   "metadata": {},
   "outputs": [],
   "source": [
    "from sklearn.preprocessing import OrdinalEncoder"
   ]
  },
  {
   "cell_type": "code",
   "execution_count": 36,
   "id": "49abb17b",
   "metadata": {},
   "outputs": [],
   "source": [
    "ord_enc = OrdinalEncoder(categories=[order])"
   ]
  },
  {
   "cell_type": "code",
   "execution_count": 37,
   "id": "62949917",
   "metadata": {},
   "outputs": [
    {
     "data": {
      "text/plain": [
       "OrdinalEncoder(categories=[['low', 'high', 'medium']])"
      ]
     },
     "execution_count": 37,
     "metadata": {},
     "output_type": "execute_result"
    }
   ],
   "source": [
    "ord_enc.fit(salary_class[[\"Class\"]])"
   ]
  },
  {
   "cell_type": "code",
   "execution_count": 38,
   "id": "2791a9af",
   "metadata": {},
   "outputs": [
    {
     "data": {
      "text/plain": [
       "sklearn.preprocessing._encoders.OrdinalEncoder"
      ]
     },
     "execution_count": 38,
     "metadata": {},
     "output_type": "execute_result"
    }
   ],
   "source": [
    "OrdinalEncoder"
   ]
  },
  {
   "cell_type": "code",
   "execution_count": 39,
   "id": "b4d9f583",
   "metadata": {},
   "outputs": [],
   "source": [
    "salary_class[\"class\"] = ord_enc.transform(salary_class[[\"Class\"]])"
   ]
  },
  {
   "cell_type": "code",
   "execution_count": 40,
   "id": "5646ca3b",
   "metadata": {},
   "outputs": [
    {
     "data": {
      "text/html": [
       "<div>\n",
       "<style scoped>\n",
       "    .dataframe tbody tr th:only-of-type {\n",
       "        vertical-align: middle;\n",
       "    }\n",
       "\n",
       "    .dataframe tbody tr th {\n",
       "        vertical-align: top;\n",
       "    }\n",
       "\n",
       "    .dataframe thead th {\n",
       "        text-align: right;\n",
       "    }\n",
       "</style>\n",
       "<table border=\"1\" class=\"dataframe\">\n",
       "  <thead>\n",
       "    <tr style=\"text-align: right;\">\n",
       "      <th></th>\n",
       "      <th>salary</th>\n",
       "      <th>Class</th>\n",
       "      <th>class</th>\n",
       "    </tr>\n",
       "  </thead>\n",
       "  <tbody>\n",
       "    <tr>\n",
       "      <th>0</th>\n",
       "      <td>18000</td>\n",
       "      <td>low</td>\n",
       "      <td>0.0</td>\n",
       "    </tr>\n",
       "    <tr>\n",
       "      <th>1</th>\n",
       "      <td>37000</td>\n",
       "      <td>low</td>\n",
       "      <td>0.0</td>\n",
       "    </tr>\n",
       "    <tr>\n",
       "      <th>2</th>\n",
       "      <td>79000</td>\n",
       "      <td>medium</td>\n",
       "      <td>2.0</td>\n",
       "    </tr>\n",
       "    <tr>\n",
       "      <th>3</th>\n",
       "      <td>41000</td>\n",
       "      <td>low</td>\n",
       "      <td>0.0</td>\n",
       "    </tr>\n",
       "    <tr>\n",
       "      <th>4</th>\n",
       "      <td>75000</td>\n",
       "      <td>high</td>\n",
       "      <td>1.0</td>\n",
       "    </tr>\n",
       "  </tbody>\n",
       "</table>\n",
       "</div>"
      ],
      "text/plain": [
       "   salary   Class  class\n",
       "0   18000     low    0.0\n",
       "1   37000     low    0.0\n",
       "2   79000  medium    2.0\n",
       "3   41000     low    0.0\n",
       "4   75000    high    1.0"
      ]
     },
     "execution_count": 40,
     "metadata": {},
     "output_type": "execute_result"
    }
   ],
   "source": [
    "salary_class"
   ]
  },
  {
   "cell_type": "code",
   "execution_count": 41,
   "id": "cbac9780",
   "metadata": {},
   "outputs": [],
   "source": [
    "stand_scaler = pd.DataFrame({'x1':np.random.normal(0,2,100),\n",
    "                            'x2':np.random.normal(3,5,100),\n",
    "                            'x3':np.random.normal(-2,2,100)})"
   ]
  },
  {
   "cell_type": "code",
   "execution_count": 42,
   "id": "81732bef",
   "metadata": {},
   "outputs": [
    {
     "data": {
      "text/html": [
       "<div>\n",
       "<style scoped>\n",
       "    .dataframe tbody tr th:only-of-type {\n",
       "        vertical-align: middle;\n",
       "    }\n",
       "\n",
       "    .dataframe tbody tr th {\n",
       "        vertical-align: top;\n",
       "    }\n",
       "\n",
       "    .dataframe thead th {\n",
       "        text-align: right;\n",
       "    }\n",
       "</style>\n",
       "<table border=\"1\" class=\"dataframe\">\n",
       "  <thead>\n",
       "    <tr style=\"text-align: right;\">\n",
       "      <th></th>\n",
       "      <th>x1</th>\n",
       "      <th>x2</th>\n",
       "      <th>x3</th>\n",
       "    </tr>\n",
       "  </thead>\n",
       "  <tbody>\n",
       "    <tr>\n",
       "      <th>0</th>\n",
       "      <td>0.964744</td>\n",
       "      <td>-1.063491</td>\n",
       "      <td>-3.018588</td>\n",
       "    </tr>\n",
       "    <tr>\n",
       "      <th>1</th>\n",
       "      <td>-0.048073</td>\n",
       "      <td>5.312057</td>\n",
       "      <td>-2.343780</td>\n",
       "    </tr>\n",
       "    <tr>\n",
       "      <th>2</th>\n",
       "      <td>0.894641</td>\n",
       "      <td>5.338330</td>\n",
       "      <td>-1.404836</td>\n",
       "    </tr>\n",
       "    <tr>\n",
       "      <th>3</th>\n",
       "      <td>-0.935688</td>\n",
       "      <td>-0.216085</td>\n",
       "      <td>-2.589457</td>\n",
       "    </tr>\n",
       "    <tr>\n",
       "      <th>4</th>\n",
       "      <td>1.383928</td>\n",
       "      <td>-5.529594</td>\n",
       "      <td>1.538829</td>\n",
       "    </tr>\n",
       "    <tr>\n",
       "      <th>...</th>\n",
       "      <td>...</td>\n",
       "      <td>...</td>\n",
       "      <td>...</td>\n",
       "    </tr>\n",
       "    <tr>\n",
       "      <th>95</th>\n",
       "      <td>-0.463915</td>\n",
       "      <td>1.624225</td>\n",
       "      <td>0.973994</td>\n",
       "    </tr>\n",
       "    <tr>\n",
       "      <th>96</th>\n",
       "      <td>1.433124</td>\n",
       "      <td>-0.847770</td>\n",
       "      <td>0.605731</td>\n",
       "    </tr>\n",
       "    <tr>\n",
       "      <th>97</th>\n",
       "      <td>1.483641</td>\n",
       "      <td>0.227159</td>\n",
       "      <td>0.142197</td>\n",
       "    </tr>\n",
       "    <tr>\n",
       "      <th>98</th>\n",
       "      <td>-2.000011</td>\n",
       "      <td>0.590778</td>\n",
       "      <td>0.851615</td>\n",
       "    </tr>\n",
       "    <tr>\n",
       "      <th>99</th>\n",
       "      <td>-0.190862</td>\n",
       "      <td>-0.471353</td>\n",
       "      <td>-3.108044</td>\n",
       "    </tr>\n",
       "  </tbody>\n",
       "</table>\n",
       "<p>100 rows × 3 columns</p>\n",
       "</div>"
      ],
      "text/plain": [
       "          x1        x2        x3\n",
       "0   0.964744 -1.063491 -3.018588\n",
       "1  -0.048073  5.312057 -2.343780\n",
       "2   0.894641  5.338330 -1.404836\n",
       "3  -0.935688 -0.216085 -2.589457\n",
       "4   1.383928 -5.529594  1.538829\n",
       "..       ...       ...       ...\n",
       "95 -0.463915  1.624225  0.973994\n",
       "96  1.433124 -0.847770  0.605731\n",
       "97  1.483641  0.227159  0.142197\n",
       "98 -2.000011  0.590778  0.851615\n",
       "99 -0.190862 -0.471353 -3.108044\n",
       "\n",
       "[100 rows x 3 columns]"
      ]
     },
     "execution_count": 42,
     "metadata": {},
     "output_type": "execute_result"
    }
   ],
   "source": [
    "stand_scaler"
   ]
  },
  {
   "cell_type": "code",
   "execution_count": 43,
   "id": "6ee2e693",
   "metadata": {},
   "outputs": [
    {
     "data": {
      "text/plain": [
       "<AxesSubplot:ylabel='Density'>"
      ]
     },
     "execution_count": 43,
     "metadata": {},
     "output_type": "execute_result"
    },
    {
     "data": {
      "image/png": "[encoded data removed]",
      "text/plain": [
       "<Figure size 640x480 with 1 Axes>"
      ]
     },
     "metadata": {},
     "output_type": "display_data"
    }
   ],
   "source": [
    "stand_scaler.plot.kde()"
   ]
  },
  {
   "cell_type": "code",
   "execution_count": 44,
   "id": "fd312f7a",
   "metadata": {},
   "outputs": [],
   "source": [
    "from sklearn.preprocessing import StandardScaler"
   ]
  },
  {
   "cell_type": "code",
   "execution_count": 45,
   "id": "cea1e83d",
   "metadata": {},
   "outputs": [],
   "source": [
    "stand_sca = StandardScaler()"
   ]
  },
  {
   "cell_type": "code",
   "execution_count": 46,
   "id": "54916e2b",
   "metadata": {},
   "outputs": [],
   "source": [
    "stand_scaler =stand_sca.fit_transform(stand_scaler)"
   ]
  },
  {
   "cell_type": "code",
   "execution_count": 47,
   "id": "91ee7e70",
   "metadata": {},
   "outputs": [
    {
     "data": {
      "text/plain": [
       "array([[ 0.35368366, -0.70826774, -0.60745903],\n",
       "       [-0.16560542,  0.60295731, -0.25080314],\n",
       "       [ 0.31774065,  0.60836071,  0.24545595],\n",
       "       [-0.62070137, -0.53398621, -0.38065084],\n",
       "       [ 0.56860634, -1.62678743,  1.80126876],\n",
       "       [-1.88784138, -0.04515874,  1.2054651 ],\n",
       "       [-0.69139908,  0.99911371,  1.4310433 ],\n",
       "       [-0.84865799,  0.54626272,  1.30872512],\n",
       "       [ 1.42771774,  1.07569985,  0.1122196 ],\n",
       "       [ 0.39843467, -1.12470593, -1.64745493],\n",
       "       [-0.35998915,  1.04848822, -0.28405642],\n",
       "       [-0.06438442, -1.5128154 ,  1.10948006],\n",
       "       [ 0.84011531, -2.16287638,  0.52253779],\n",
       "       [-0.4367949 ,  0.62147074, -1.2496868 ],\n",
       "       [-0.44907999,  0.12198281, -0.81220107],\n",
       "       [ 2.15257328, -0.01624297,  0.31380852],\n",
       "       [-0.44945644, -0.75571683,  1.04350725],\n",
       "       [-1.9758046 ,  1.92300723, -1.12401873],\n",
       "       [ 1.45016411,  0.70521717,  1.94615381],\n",
       "       [ 0.97744656,  0.74125034,  0.26240184],\n",
       "       [-0.89103539,  0.7128568 ,  0.02050347],\n",
       "       [ 0.58799644,  0.62409791, -0.92788322],\n",
       "       [-1.07552785,  0.22178947, -1.1981114 ],\n",
       "       [-1.60026037,  2.18605115, -0.50536526],\n",
       "       [-0.91831409,  0.36601035, -2.84514557],\n",
       "       [-2.22070967,  0.36104936,  0.79112278],\n",
       "       [ 0.39907038,  0.00887198, -0.46755878],\n",
       "       [-0.14779025, -0.07331365,  0.56229124],\n",
       "       [-1.07988539, -1.12782032, -0.57981465],\n",
       "       [ 0.2100392 ,  0.25032731, -0.06817986],\n",
       "       [-1.47506373, -0.04787657,  0.37595697],\n",
       "       [-0.07664535,  1.24958591,  0.70575175],\n",
       "       [ 0.93412197,  0.58656946,  0.5744722 ],\n",
       "       [ 0.56067869, -1.5619959 , -1.00075056],\n",
       "       [ 0.37680824,  0.66958783, -2.25620831],\n",
       "       [ 0.63735655, -0.92142469,  0.26994623],\n",
       "       [ 0.0503845 , -0.0948769 ,  2.17267426],\n",
       "       [-0.22685355,  1.52276018,  0.19805026],\n",
       "       [ 0.32214653, -1.47137803, -0.17069848],\n",
       "       [-0.05513918, -0.26849605, -0.42453513],\n",
       "       [-2.12904955,  0.40651424, -0.94736219],\n",
       "       [ 0.79920124,  0.70322974, -0.55005743],\n",
       "       [ 1.37018052, -0.99324204, -1.03291674],\n",
       "       [ 1.91177382,  0.67372702,  0.57229245],\n",
       "       [ 0.95145531, -0.08027899,  1.69251125],\n",
       "       [ 0.77062663,  1.64212295, -1.44693154],\n",
       "       [ 1.69428274,  1.00177785,  0.55754539],\n",
       "       [ 1.61495971, -0.45522663, -1.61618941],\n",
       "       [ 1.7735903 , -1.80833204,  0.41729983],\n",
       "       [-0.00669297, -1.08456301, -0.20706917],\n",
       "       [-1.18536131, -0.58536076,  0.35180519],\n",
       "       [-1.12142024,  0.43634228, -1.38379099],\n",
       "       [-0.19996421,  0.3202296 , -2.25147756],\n",
       "       [-2.10619205,  1.74671506,  1.53303739],\n",
       "       [-2.06016319, -0.88297552,  0.67109547],\n",
       "       [ 1.66852859, -1.86786533,  1.12511156],\n",
       "       [-0.10911609,  1.0831132 ,  0.77671825],\n",
       "       [-0.56464578, -2.53728659, -0.58704324],\n",
       "       [ 1.01226352, -0.74458182, -0.41935883],\n",
       "       [-0.70882504,  1.37123106, -1.06174651],\n",
       "       [-0.32960152,  0.36837615, -1.58897589],\n",
       "       [ 0.60610896,  0.18283555,  0.96988256],\n",
       "       [ 0.65616947,  0.71118966, -0.27769017],\n",
       "       [ 1.11580981,  0.93502923,  1.18264972],\n",
       "       [ 0.39319519,  2.32128762,  0.39658844],\n",
       "       [ 1.46889065, -0.44554067,  1.37563786],\n",
       "       [-0.63900884, -1.1094262 , -2.10566506],\n",
       "       [ 1.45794037,  0.02998232,  0.22687318],\n",
       "       [-0.76428828, -0.98827411,  0.28499128],\n",
       "       [-1.05125116,  0.94063425, -0.6473995 ],\n",
       "       [ 1.17869591,  0.91206105,  0.53121749],\n",
       "       [-1.18367568, -0.58175723,  0.60637293],\n",
       "       [ 0.20761154, -1.03432251, -0.45103295],\n",
       "       [ 0.68127687,  1.06563562, -0.18729954],\n",
       "       [ 1.36940114, -1.87271295, -0.34799491],\n",
       "       [-0.362725  , -1.26338195, -1.62905134],\n",
       "       [-0.08059869, -1.04292104,  0.72212769],\n",
       "       [-0.88615508,  1.2848385 , -0.28995337],\n",
       "       [ 0.42481073,  1.42428114, -0.21849083],\n",
       "       [-0.1689924 ,  0.08914662, -0.20063227],\n",
       "       [ 0.16472951,  0.21811365, -0.81076318],\n",
       "       [ 0.65912798, -0.27345373,  0.07943929],\n",
       "       [-0.68324044, -0.80879848,  0.23195468],\n",
       "       [-0.58503142, -0.96499097,  0.83640845],\n",
       "       [-1.05117125,  0.95035486,  0.18992475],\n",
       "       [-0.54240083,  0.02812531, -0.45932053],\n",
       "       [-0.17841294,  0.14624277, -0.05604004],\n",
       "       [-1.80978353,  0.07426389,  0.12631736],\n",
       "       [ 0.43318996,  0.25144669, -0.68846657],\n",
       "       [-0.27505755,  0.8880972 , -0.04860641],\n",
       "       [ 1.24803497,  0.25544261,  0.10826289],\n",
       "       [-0.3969456 , -1.04611827,  1.30841966],\n",
       "       [ 0.61862472, -1.36986658, -0.92078296],\n",
       "       [ 0.68295571, -0.81759722,  0.98409842],\n",
       "       [-0.03134206,  0.71361462, -0.25598983],\n",
       "       [-0.37881514, -0.15549953,  1.50273696],\n",
       "       [ 0.59383039, -0.66390146,  1.30809915],\n",
       "       [ 0.61973113, -0.44282659,  1.0631083 ],\n",
       "       [-1.1663986 , -0.36804303,  1.43805634],\n",
       "       [-0.23881619, -0.58648588, -0.65473933]])"
      ]
     },
     "execution_count": 47,
     "metadata": {},
     "output_type": "execute_result"
    }
   ],
   "source": [
    "stand_scaler"
   ]
  },
  {
   "cell_type": "code",
   "execution_count": 48,
   "id": "dec300e6",
   "metadata": {},
   "outputs": [],
   "source": [
    "stand_scaler =pd.DataFrame(stand_scaler,columns=['x1','x2','x3'])"
   ]
  },
  {
   "cell_type": "code",
   "execution_count": 49,
   "id": "9c179360",
   "metadata": {},
   "outputs": [
    {
     "data": {
      "text/html": [
       "<div>\n",
       "<style scoped>\n",
       "    .dataframe tbody tr th:only-of-type {\n",
       "        vertical-align: middle;\n",
       "    }\n",
       "\n",
       "    .dataframe tbody tr th {\n",
       "        vertical-align: top;\n",
       "    }\n",
       "\n",
       "    .dataframe thead th {\n",
       "        text-align: right;\n",
       "    }\n",
       "</style>\n",
       "<table border=\"1\" class=\"dataframe\">\n",
       "  <thead>\n",
       "    <tr style=\"text-align: right;\">\n",
       "      <th></th>\n",
       "      <th>x1</th>\n",
       "      <th>x2</th>\n",
       "      <th>x3</th>\n",
       "    </tr>\n",
       "  </thead>\n",
       "  <tbody>\n",
       "    <tr>\n",
       "      <th>0</th>\n",
       "      <td>0.353684</td>\n",
       "      <td>-0.708268</td>\n",
       "      <td>-0.607459</td>\n",
       "    </tr>\n",
       "    <tr>\n",
       "      <th>1</th>\n",
       "      <td>-0.165605</td>\n",
       "      <td>0.602957</td>\n",
       "      <td>-0.250803</td>\n",
       "    </tr>\n",
       "    <tr>\n",
       "      <th>2</th>\n",
       "      <td>0.317741</td>\n",
       "      <td>0.608361</td>\n",
       "      <td>0.245456</td>\n",
       "    </tr>\n",
       "    <tr>\n",
       "      <th>3</th>\n",
       "      <td>-0.620701</td>\n",
       "      <td>-0.533986</td>\n",
       "      <td>-0.380651</td>\n",
       "    </tr>\n",
       "    <tr>\n",
       "      <th>4</th>\n",
       "      <td>0.568606</td>\n",
       "      <td>-1.626787</td>\n",
       "      <td>1.801269</td>\n",
       "    </tr>\n",
       "    <tr>\n",
       "      <th>...</th>\n",
       "      <td>...</td>\n",
       "      <td>...</td>\n",
       "      <td>...</td>\n",
       "    </tr>\n",
       "    <tr>\n",
       "      <th>95</th>\n",
       "      <td>-0.378815</td>\n",
       "      <td>-0.155500</td>\n",
       "      <td>1.502737</td>\n",
       "    </tr>\n",
       "    <tr>\n",
       "      <th>96</th>\n",
       "      <td>0.593830</td>\n",
       "      <td>-0.663901</td>\n",
       "      <td>1.308099</td>\n",
       "    </tr>\n",
       "    <tr>\n",
       "      <th>97</th>\n",
       "      <td>0.619731</td>\n",
       "      <td>-0.442827</td>\n",
       "      <td>1.063108</td>\n",
       "    </tr>\n",
       "    <tr>\n",
       "      <th>98</th>\n",
       "      <td>-1.166399</td>\n",
       "      <td>-0.368043</td>\n",
       "      <td>1.438056</td>\n",
       "    </tr>\n",
       "    <tr>\n",
       "      <th>99</th>\n",
       "      <td>-0.238816</td>\n",
       "      <td>-0.586486</td>\n",
       "      <td>-0.654739</td>\n",
       "    </tr>\n",
       "  </tbody>\n",
       "</table>\n",
       "<p>100 rows × 3 columns</p>\n",
       "</div>"
      ],
      "text/plain": [
       "          x1        x2        x3\n",
       "0   0.353684 -0.708268 -0.607459\n",
       "1  -0.165605  0.602957 -0.250803\n",
       "2   0.317741  0.608361  0.245456\n",
       "3  -0.620701 -0.533986 -0.380651\n",
       "4   0.568606 -1.626787  1.801269\n",
       "..       ...       ...       ...\n",
       "95 -0.378815 -0.155500  1.502737\n",
       "96  0.593830 -0.663901  1.308099\n",
       "97  0.619731 -0.442827  1.063108\n",
       "98 -1.166399 -0.368043  1.438056\n",
       "99 -0.238816 -0.586486 -0.654739\n",
       "\n",
       "[100 rows x 3 columns]"
      ]
     },
     "execution_count": 49,
     "metadata": {},
     "output_type": "execute_result"
    }
   ],
   "source": [
    "stand_scaler"
   ]
  },
  {
   "cell_type": "code",
   "execution_count": 50,
   "id": "ec9bf244",
   "metadata": {},
   "outputs": [
    {
     "data": {
      "text/plain": [
       "<AxesSubplot:ylabel='Density'>"
      ]
     },
     "execution_count": 50,
     "metadata": {},
     "output_type": "execute_result"
    },
    {
     "data": {
      "image/png": "[encoded data removed]",
      "text/plain": [
       "<Figure size 640x480 with 1 Axes>"
      ]
     },
     "metadata": {},
     "output_type": "display_data"
    }
   ],
   "source": [
    "stand_scaler.plot.kde()"
   ]
  },
  {
   "cell_type": "markdown",
   "id": "37939053",
   "metadata": {},
   "source": [
    "# data pre-processing"
   ]
  },
  {
   "cell_type": "code",
   "execution_count": 51,
   "id": "2aa04f04",
   "metadata": {},
   "outputs": [],
   "source": [
    "outliers_df= pd.DataFrame({\n",
    "    'x1':np.concatenate([np.random.normal(20,1,1000),np.random.normal(1,1,25)]),\n",
    "    'x2':np.concatenate([np.random.normal(30,1,1000),np.random.normal(58,1,25)])})                   \n"
   ]
  },
  {
   "cell_type": "code",
   "execution_count": 52,
   "id": "f23ed544",
   "metadata": {},
   "outputs": [
    {
     "data": {
      "text/html": [
       "<div>\n",
       "<style scoped>\n",
       "    .dataframe tbody tr th:only-of-type {\n",
       "        vertical-align: middle;\n",
       "    }\n",
       "\n",
       "    .dataframe tbody tr th {\n",
       "        vertical-align: top;\n",
       "    }\n",
       "\n",
       "    .dataframe thead th {\n",
       "        text-align: right;\n",
       "    }\n",
       "</style>\n",
       "<table border=\"1\" class=\"dataframe\">\n",
       "  <thead>\n",
       "    <tr style=\"text-align: right;\">\n",
       "      <th></th>\n",
       "      <th>x1</th>\n",
       "      <th>x2</th>\n",
       "    </tr>\n",
       "  </thead>\n",
       "  <tbody>\n",
       "    <tr>\n",
       "      <th>0</th>\n",
       "      <td>19.099560</td>\n",
       "      <td>29.578047</td>\n",
       "    </tr>\n",
       "    <tr>\n",
       "      <th>1</th>\n",
       "      <td>20.357296</td>\n",
       "      <td>30.299098</td>\n",
       "    </tr>\n",
       "    <tr>\n",
       "      <th>2</th>\n",
       "      <td>20.498682</td>\n",
       "      <td>30.529090</td>\n",
       "    </tr>\n",
       "    <tr>\n",
       "      <th>3</th>\n",
       "      <td>21.466142</td>\n",
       "      <td>28.906333</td>\n",
       "    </tr>\n",
       "    <tr>\n",
       "      <th>4</th>\n",
       "      <td>20.209889</td>\n",
       "      <td>29.296243</td>\n",
       "    </tr>\n",
       "    <tr>\n",
       "      <th>...</th>\n",
       "      <td>...</td>\n",
       "      <td>...</td>\n",
       "    </tr>\n",
       "    <tr>\n",
       "      <th>1020</th>\n",
       "      <td>0.597898</td>\n",
       "      <td>56.762080</td>\n",
       "    </tr>\n",
       "    <tr>\n",
       "      <th>1021</th>\n",
       "      <td>1.343631</td>\n",
       "      <td>57.750228</td>\n",
       "    </tr>\n",
       "    <tr>\n",
       "      <th>1022</th>\n",
       "      <td>-0.284082</td>\n",
       "      <td>57.935541</td>\n",
       "    </tr>\n",
       "    <tr>\n",
       "      <th>1023</th>\n",
       "      <td>1.532685</td>\n",
       "      <td>56.204694</td>\n",
       "    </tr>\n",
       "    <tr>\n",
       "      <th>1024</th>\n",
       "      <td>2.268720</td>\n",
       "      <td>58.296590</td>\n",
       "    </tr>\n",
       "  </tbody>\n",
       "</table>\n",
       "<p>1025 rows × 2 columns</p>\n",
       "</div>"
      ],
      "text/plain": [
       "             x1         x2\n",
       "0     19.099560  29.578047\n",
       "1     20.357296  30.299098\n",
       "2     20.498682  30.529090\n",
       "3     21.466142  28.906333\n",
       "4     20.209889  29.296243\n",
       "...         ...        ...\n",
       "1020   0.597898  56.762080\n",
       "1021   1.343631  57.750228\n",
       "1022  -0.284082  57.935541\n",
       "1023   1.532685  56.204694\n",
       "1024   2.268720  58.296590\n",
       "\n",
       "[1025 rows x 2 columns]"
      ]
     },
     "execution_count": 52,
     "metadata": {},
     "output_type": "execute_result"
    }
   ],
   "source": [
    "outliers_df"
   ]
  },
  {
   "cell_type": "code",
   "execution_count": 53,
   "id": "15ccf94a",
   "metadata": {},
   "outputs": [
    {
     "data": {
      "text/plain": [
       "<AxesSubplot:ylabel='Density'>"
      ]
     },
     "execution_count": 53,
     "metadata": {},
     "output_type": "execute_result"
    },
    {
     "data": {
      "image/png": "[encoded data removed]",
      "text/plain": [
       "<Figure size 640x480 with 1 Axes>"
      ]
     },
     "metadata": {},
     "output_type": "display_data"
    }
   ],
   "source": [
    "outliers_df.plot.kde()"
   ]
  },
  {
   "cell_type": "code",
   "execution_count": 55,
   "id": "fcc7db84",
   "metadata": {},
   "outputs": [],
   "source": [
    "from sklearn.preprocessing import RobustScaler"
   ]
  },
  {
   "cell_type": "code",
   "execution_count": 56,
   "id": "9d4b995b",
   "metadata": {},
   "outputs": [],
   "source": [
    "outliers = RobustScaler()"
   ]
  },
  {
   "cell_type": "code",
   "execution_count": 57,
   "id": "52eb22a3",
   "metadata": {},
   "outputs": [],
   "source": [
    "outliers_df = outliers.fit_transform(outliers_df)"
   ]
  },
  {
   "cell_type": "code",
   "execution_count": 58,
   "id": "0821491b",
   "metadata": {},
   "outputs": [
    {
     "data": {
      "text/plain": [
       "array([[ -0.55634753,  -0.3003689 ],\n",
       "       [  0.31000691,   0.19641872],\n",
       "       [  0.40739678,   0.35487795],\n",
       "       ...,\n",
       "       [-13.90819872,  19.23729181],\n",
       "       [-12.65677235,  18.04477819],\n",
       "       [-12.14977641,  19.48604582]])"
      ]
     },
     "execution_count": 58,
     "metadata": {},
     "output_type": "execute_result"
    }
   ],
   "source": [
    "outliers_df"
   ]
  },
  {
   "cell_type": "code",
   "execution_count": 59,
   "id": "4b71c1d0",
   "metadata": {},
   "outputs": [],
   "source": [
    "outliers_df = pd.DataFrame(outliers_df,columns=['x1','x2'])"
   ]
  },
  {
   "cell_type": "code",
   "execution_count": 60,
   "id": "be728648",
   "metadata": {},
   "outputs": [
    {
     "data": {
      "text/html": [
       "<div>\n",
       "<style scoped>\n",
       "    .dataframe tbody tr th:only-of-type {\n",
       "        vertical-align: middle;\n",
       "    }\n",
       "\n",
       "    .dataframe tbody tr th {\n",
       "        vertical-align: top;\n",
       "    }\n",
       "\n",
       "    .dataframe thead th {\n",
       "        text-align: right;\n",
       "    }\n",
       "</style>\n",
       "<table border=\"1\" class=\"dataframe\">\n",
       "  <thead>\n",
       "    <tr style=\"text-align: right;\">\n",
       "      <th></th>\n",
       "      <th>x1</th>\n",
       "      <th>x2</th>\n",
       "    </tr>\n",
       "  </thead>\n",
       "  <tbody>\n",
       "    <tr>\n",
       "      <th>0</th>\n",
       "      <td>-0.556348</td>\n",
       "      <td>-0.300369</td>\n",
       "    </tr>\n",
       "    <tr>\n",
       "      <th>1</th>\n",
       "      <td>0.310007</td>\n",
       "      <td>0.196419</td>\n",
       "    </tr>\n",
       "    <tr>\n",
       "      <th>2</th>\n",
       "      <td>0.407397</td>\n",
       "      <td>0.354878</td>\n",
       "    </tr>\n",
       "    <tr>\n",
       "      <th>3</th>\n",
       "      <td>1.073803</td>\n",
       "      <td>-0.763164</td>\n",
       "    </tr>\n",
       "    <tr>\n",
       "      <th>4</th>\n",
       "      <td>0.208470</td>\n",
       "      <td>-0.494525</td>\n",
       "    </tr>\n",
       "    <tr>\n",
       "      <th>...</th>\n",
       "      <td>...</td>\n",
       "      <td>...</td>\n",
       "    </tr>\n",
       "    <tr>\n",
       "      <th>1020</th>\n",
       "      <td>-13.300672</td>\n",
       "      <td>18.428804</td>\n",
       "    </tr>\n",
       "    <tr>\n",
       "      <th>1021</th>\n",
       "      <td>-12.786997</td>\n",
       "      <td>19.109615</td>\n",
       "    </tr>\n",
       "    <tr>\n",
       "      <th>1022</th>\n",
       "      <td>-13.908199</td>\n",
       "      <td>19.237292</td>\n",
       "    </tr>\n",
       "    <tr>\n",
       "      <th>1023</th>\n",
       "      <td>-12.656772</td>\n",
       "      <td>18.044778</td>\n",
       "    </tr>\n",
       "    <tr>\n",
       "      <th>1024</th>\n",
       "      <td>-12.149776</td>\n",
       "      <td>19.486046</td>\n",
       "    </tr>\n",
       "  </tbody>\n",
       "</table>\n",
       "<p>1025 rows × 2 columns</p>\n",
       "</div>"
      ],
      "text/plain": [
       "             x1         x2\n",
       "0     -0.556348  -0.300369\n",
       "1      0.310007   0.196419\n",
       "2      0.407397   0.354878\n",
       "3      1.073803  -0.763164\n",
       "4      0.208470  -0.494525\n",
       "...         ...        ...\n",
       "1020 -13.300672  18.428804\n",
       "1021 -12.786997  19.109615\n",
       "1022 -13.908199  19.237292\n",
       "1023 -12.656772  18.044778\n",
       "1024 -12.149776  19.486046\n",
       "\n",
       "[1025 rows x 2 columns]"
      ]
     },
     "execution_count": 60,
     "metadata": {},
     "output_type": "execute_result"
    }
   ],
   "source": [
    "outliers_df"
   ]
  },
  {
   "cell_type": "code",
   "execution_count": 61,
   "id": "d74cc39c",
   "metadata": {},
   "outputs": [
    {
     "data": {
      "text/plain": [
       "<AxesSubplot:ylabel='Density'>"
      ]
     },
     "execution_count": 61,
     "metadata": {},
     "output_type": "execute_result"
    },
    {
     "data": {
      "image/png": "[encoded data removed]",
      "text/plain": [
       "<Figure size 640x480 with 1 Axes>"
      ]
     },
     "metadata": {},
     "output_type": "display_data"
    }
   ],
   "source": [
    "outliers_df.plot.kde()"
   ]
  },
  {
   "cell_type": "code",
   "execution_count": null,
   "id": "ee5dccdf",
   "metadata": {},
   "outputs": [],
   "source": []
  }
 ],
 "metadata": {
  "kernelspec": {
   "display_name": "Python 3 (ipykernel)",
   "language": "python",
   "name": "python3"
  },
  "language_info": {
   "codemirror_mode": {
    "name": "ipython",
    "version": 3
   },
   "file_extension": ".py",
   "mimetype": "text/x-python",
   "name": "python",
   "nbconvert_exporter": "python",
   "pygments_lexer": "ipython3",
   "version": "3.9.13"
  }
 },
 "nbformat": 4,
 "nbformat_minor": 5
}
