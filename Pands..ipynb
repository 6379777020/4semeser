{
 "cells": [
  {
   "cell_type": "code",
   "execution_count": 1,
   "id": "ce2519cb",
   "metadata": {},
   "outputs": [],
   "source": [
    "import pandas as pd"
   ]
  },
  {
   "cell_type": "code",
   "execution_count": 2,
   "id": "97cc885a",
   "metadata": {},
   "outputs": [
    {
     "data": {
      "text/plain": [
       "'1.3.4'"
      ]
     },
     "execution_count": 2,
     "metadata": {},
     "output_type": "execute_result"
    }
   ],
   "source": [
    "pd.__version__"
   ]
  },
  {
   "cell_type": "code",
   "execution_count": 3,
   "id": "e55c2f9c",
   "metadata": {},
   "outputs": [],
   "source": [
    "a1=pd.Series(['one',2,3,4,5],index=[0,1,2,3,4])"
   ]
  },
  {
   "cell_type": "code",
   "execution_count": 4,
   "id": "9b25d6b4",
   "metadata": {},
   "outputs": [
    {
     "name": "stdout",
     "output_type": "stream",
     "text": [
      "0    one\n",
      "1      2\n",
      "2      3\n",
      "3      4\n",
      "4      5\n",
      "dtype: object\n"
     ]
    }
   ],
   "source": [
    "print(a1)"
   ]
  },
  {
   "cell_type": "code",
   "execution_count": 5,
   "id": "3698652d",
   "metadata": {},
   "outputs": [],
   "source": [
    "a2=pd.Series(['one',2.5,'3+j',4,5],index=[0,1,2,3,4])"
   ]
  },
  {
   "cell_type": "code",
   "execution_count": 6,
   "id": "6dfb33ec",
   "metadata": {},
   "outputs": [
    {
     "name": "stdout",
     "output_type": "stream",
     "text": [
      "0    one\n",
      "1    2.5\n",
      "2    3+j\n",
      "3      4\n",
      "4      5\n",
      "dtype: object\n"
     ]
    }
   ],
   "source": [
    "print(a2)"
   ]
  },
  {
   "cell_type": "code",
   "execution_count": 7,
   "id": "02d14936",
   "metadata": {},
   "outputs": [],
   "source": [
    "season = {\"Rainy\":{1:'nov', 2:'dec', 3:'jan', 4:'feb'}, \"Dry\":{1:'mar', 2:'apr', 3:'may', 4:'jun'},\"Com\":{1:'jul',2:'Aug',3:'sep',4:'ocb'}}"
   ]
  },
  {
   "cell_type": "code",
   "execution_count": 8,
   "id": "d9040218",
   "metadata": {},
   "outputs": [],
   "source": [
    "d=pd.DataFrame(season ,columns =[\"Rainy\",\"Dry\",\"Com\"])"
   ]
  },
  {
   "cell_type": "code",
   "execution_count": 9,
   "id": "45fc1382",
   "metadata": {},
   "outputs": [
    {
     "name": "stdout",
     "output_type": "stream",
     "text": [
      "  Rainy  Dry  Com\n",
      "1   nov  mar  jul\n",
      "2   dec  apr  Aug\n",
      "3   jan  may  sep\n",
      "4   feb  jun  ocb\n"
     ]
    }
   ],
   "source": [
    "print(d)"
   ]
  },
  {
   "cell_type": "code",
   "execution_count": 10,
   "id": "ce1ee2ec",
   "metadata": {},
   "outputs": [],
   "source": [
    "import numpy as np "
   ]
  },
  {
   "cell_type": "code",
   "execution_count": 11,
   "id": "1dc56124",
   "metadata": {},
   "outputs": [],
   "source": [
    "a =pd.DataFrame(np.random.randint(200,5000,size=(30,10)),columns=list('abcdefghkl'))"
   ]
  },
  {
   "cell_type": "code",
   "execution_count": 12,
   "id": "0220d39d",
   "metadata": {},
   "outputs": [
    {
     "name": "stdout",
     "output_type": "stream",
     "text": [
      "       a     b     c     d     e     f     g     h     k     l\n",
      "0   4582   877   630  1085  4873  3188  1511  1952  3706  3959\n",
      "1    862  2922  1730  3649  1174   320  1184   677   345  4496\n",
      "2   2146  1101  1972  4379  3781  2466  2281  2649  3853   448\n",
      "3   4730  4544  4710  1962   758  2206  3925  4632  1042   727\n",
      "4   2739  1410  2096  3910  3853  1845  1668  2712  3926  1007\n",
      "5    645  3497  2929   834   533  4740   755  2190  2453  4217\n",
      "6   2974  3947  2185   807  1952   697  3313  3232  1940  3400\n",
      "7   2852  4917  1063  4665   499  2080  4284  2534  4465  3043\n",
      "8   3030  1946   263  4763  4117  4939  1127  2384  4645  1336\n",
      "9   3380  3353  4239   742  2133  1418   454   366   883  1413\n",
      "10  3395  4515  3810  1495  1511  4305  1152  3293  2221  2546\n",
      "11  4590  1483  2495  2261  3989  2321  1042  3197   293  3973\n",
      "12   428  4578  2759  3502  2909  2242  1982  1027  2334  2938\n",
      "13   334   791  1838  3551  4174  3054  4623  4631  3777  1093\n",
      "14   294  4130  2771  3663  4438  3650  3433  1093  1549  4107\n",
      "15  1712  1729  1738  3763  1950  4892  3530  4169  3347  4761\n",
      "16   438  2358  2180  3829  1205  3128   510  4363  1351  3860\n",
      "17  1619  4320  3084  3871  2851  2964  2065  3828  4597  1590\n",
      "18  3807   214   639  3765  4746   822  2926   768  3449  4103\n",
      "19  3376  4015   569  2228  3056  3309  1683   672  2781  3400\n",
      "20  3169   752   263  1127  3194  2664  3912   606  4610   337\n",
      "21  2536   604  4270  4898  3059  4190   925  2020  2960  2499\n",
      "22  2701  4593   451  3177   789  2969   396   766  2691  2117\n",
      "23  4469  3199  1586  2400  3991   543  2164  3707  2522  1849\n",
      "24  2414  4922  2246  1490  2984  3150  1875  1180  1233  1047\n",
      "25  3434  2210  1478  4703  3152   995  2494  1252  1745  4320\n",
      "26  1499   876  4260  3682  2020   347  4989   235  4888  1770\n",
      "27  1204  1174  2219  3579  1796  2477  1195   386  3097  2552\n",
      "28  4732   617   271  1627  2509   607  3174  3485  1670  4978\n",
      "29  1773  3723  2347  3700  2637  3081  4328   928  3794  4561\n"
     ]
    }
   ],
   "source": [
    "print(a)"
   ]
  },
  {
   "cell_type": "code",
   "execution_count": 13,
   "id": "ea5b39ce",
   "metadata": {},
   "outputs": [],
   "source": [
    "a.to_csv(\"C:/Users/Admin/pandes.csv\")"
   ]
  },
  {
   "cell_type": "code",
   "execution_count": 14,
   "id": "98300faa",
   "metadata": {},
   "outputs": [],
   "source": [
    "n=pd.read_csv(\"C:/Users/Admin/pandes.csv\")"
   ]
  },
  {
   "cell_type": "code",
   "execution_count": 15,
   "id": "221b6ba9",
   "metadata": {},
   "outputs": [],
   "source": [
    "import matplotlib.pyplot as plt \n",
    "from mpl_toolkits.mplot3d import Axes3D\n",
    "%matplotlib inline"
   ]
  },
  {
   "cell_type": "code",
   "execution_count": 16,
   "id": "17994e6c",
   "metadata": {},
   "outputs": [],
   "source": [
    "data = {\"app\":[\"Facebook\",\"What's app\",\"BGMI\",\"Twitter\"], \"reting\":[8,8,8,8], \"Download\":[100000,250000,50000,800000]}"
   ]
  },
  {
   "cell_type": "code",
   "execution_count": 17,
   "id": "29ad38cc",
   "metadata": {},
   "outputs": [],
   "source": [
    "app1=pd.DataFrame(data ,columns =[\"app\",\"reting\",\"Download\"])"
   ]
  },
  {
   "cell_type": "code",
   "execution_count": 18,
   "id": "c9152cd2",
   "metadata": {},
   "outputs": [
    {
     "name": "stdout",
     "output_type": "stream",
     "text": [
      "          app  reting  Download\n",
      "0    Facebook       8    100000\n",
      "1  What's app       8    250000\n",
      "2        BGMI       8     50000\n",
      "3     Twitter       8    800000\n"
     ]
    }
   ],
   "source": [
    "print(app1)"
   ]
  },
  {
   "cell_type": "code",
   "execution_count": 19,
   "id": "bc9ae03a",
   "metadata": {},
   "outputs": [
    {
     "name": "stdout",
     "output_type": "stream",
     "text": [
      "          app  reting  Download\n",
      "0    Facebook       8    100000\n",
      "1  What's app       8    250000\n",
      "2        BGMI       8     50000\n",
      "3     Twitter       8    800000\n"
     ]
    }
   ],
   "source": [
    "print(app1)"
   ]
  },
  {
   "cell_type": "code",
   "execution_count": 20,
   "id": "4d58447d",
   "metadata": {},
   "outputs": [],
   "source": [
    "ran =pd.DataFrame(np.random.randint(200,500,size=(40,5)),columns=list('DURAI'))"
   ]
  },
  {
   "cell_type": "code",
   "execution_count": 21,
   "id": "3b93de5b",
   "metadata": {},
   "outputs": [
    {
     "name": "stdout",
     "output_type": "stream",
     "text": [
      "      D    U    R    A    I\n",
      "0   246  447  435  305  205\n",
      "1   292  451  432  336  442\n",
      "2   403  418  232  290  200\n",
      "3   449  382  295  224  391\n",
      "4   266  435  445  327  327\n",
      "5   376  271  454  369  455\n",
      "6   256  202  344  474  490\n",
      "7   368  369  343  421  264\n",
      "8   304  471  473  425  309\n",
      "9   241  347  293  322  205\n",
      "10  225  265  449  358  298\n",
      "11  481  404  393  299  456\n",
      "12  443  467  445  389  325\n",
      "13  280  459  320  459  243\n",
      "14  243  272  223  203  232\n",
      "15  375  382  330  445  304\n",
      "16  457  457  334  395  452\n",
      "17  275  271  330  255  272\n",
      "18  255  333  336  280  270\n",
      "19  454  344  335  427  360\n",
      "20  252  378  259  431  336\n",
      "21  227  212  261  381  456\n",
      "22  237  307  443  469  416\n",
      "23  325  247  306  232  233\n",
      "24  418  214  399  298  300\n",
      "25  449  468  423  226  468\n",
      "26  227  219  327  366  266\n",
      "27  232  368  274  481  248\n",
      "28  307  451  490  421  226\n",
      "29  418  389  286  265  340\n",
      "30  324  441  364  247  406\n",
      "31  347  210  202  390  476\n",
      "32  291  410  364  272  283\n",
      "33  382  293  364  259  312\n",
      "34  444  325  499  305  229\n",
      "35  430  436  486  427  453\n",
      "36  251  356  418  429  437\n",
      "37  405  266  237  395  452\n",
      "38  477  400  241  484  435\n",
      "39  481  255  450  346  221\n"
     ]
    }
   ],
   "source": [
    "print(ran)"
   ]
  },
  {
   "cell_type": "markdown",
   "id": "a73a368f",
   "metadata": {},
   "source": [
    "# Data Noralization"
   ]
  },
  {
   "cell_type": "code",
   "execution_count": 22,
   "id": "9d961d5a",
   "metadata": {},
   "outputs": [],
   "source": [
    "normalization_df = pd.DataFrame({'x':np.random.randint(-100,100,1000),\n",
    "                                 'y':np.random.randint(-80,80,1000),\n",
    "                                 'z':np.random.randint(-150,150,1000)})"
   ]
  },
  {
   "cell_type": "code",
   "execution_count": 23,
   "id": "e316576c",
   "metadata": {},
   "outputs": [
    {
     "data": {
      "text/html": [
       "<div>\n",
       "<style scoped>\n",
       "    .dataframe tbody tr th:only-of-type {\n",
       "        vertical-align: middle;\n",
       "    }\n",
       "\n",
       "    .dataframe tbody tr th {\n",
       "        vertical-align: top;\n",
       "    }\n",
       "\n",
       "    .dataframe thead th {\n",
       "        text-align: right;\n",
       "    }\n",
       "</style>\n",
       "<table border=\"1\" class=\"dataframe\">\n",
       "  <thead>\n",
       "    <tr style=\"text-align: right;\">\n",
       "      <th></th>\n",
       "      <th>x</th>\n",
       "      <th>y</th>\n",
       "      <th>z</th>\n",
       "    </tr>\n",
       "  </thead>\n",
       "  <tbody>\n",
       "    <tr>\n",
       "      <th>0</th>\n",
       "      <td>32</td>\n",
       "      <td>72</td>\n",
       "      <td>104</td>\n",
       "    </tr>\n",
       "    <tr>\n",
       "      <th>1</th>\n",
       "      <td>-28</td>\n",
       "      <td>-68</td>\n",
       "      <td>-112</td>\n",
       "    </tr>\n",
       "    <tr>\n",
       "      <th>2</th>\n",
       "      <td>-1</td>\n",
       "      <td>-12</td>\n",
       "      <td>-133</td>\n",
       "    </tr>\n",
       "    <tr>\n",
       "      <th>3</th>\n",
       "      <td>26</td>\n",
       "      <td>-44</td>\n",
       "      <td>135</td>\n",
       "    </tr>\n",
       "    <tr>\n",
       "      <th>4</th>\n",
       "      <td>-46</td>\n",
       "      <td>27</td>\n",
       "      <td>-24</td>\n",
       "    </tr>\n",
       "    <tr>\n",
       "      <th>...</th>\n",
       "      <td>...</td>\n",
       "      <td>...</td>\n",
       "      <td>...</td>\n",
       "    </tr>\n",
       "    <tr>\n",
       "      <th>995</th>\n",
       "      <td>-22</td>\n",
       "      <td>-1</td>\n",
       "      <td>122</td>\n",
       "    </tr>\n",
       "    <tr>\n",
       "      <th>996</th>\n",
       "      <td>84</td>\n",
       "      <td>-11</td>\n",
       "      <td>103</td>\n",
       "    </tr>\n",
       "    <tr>\n",
       "      <th>997</th>\n",
       "      <td>3</td>\n",
       "      <td>-38</td>\n",
       "      <td>5</td>\n",
       "    </tr>\n",
       "    <tr>\n",
       "      <th>998</th>\n",
       "      <td>1</td>\n",
       "      <td>-38</td>\n",
       "      <td>-49</td>\n",
       "    </tr>\n",
       "    <tr>\n",
       "      <th>999</th>\n",
       "      <td>44</td>\n",
       "      <td>-43</td>\n",
       "      <td>-101</td>\n",
       "    </tr>\n",
       "  </tbody>\n",
       "</table>\n",
       "<p>1000 rows × 3 columns</p>\n",
       "</div>"
      ],
      "text/plain": [
       "      x   y    z\n",
       "0    32  72  104\n",
       "1   -28 -68 -112\n",
       "2    -1 -12 -133\n",
       "3    26 -44  135\n",
       "4   -46  27  -24\n",
       "..   ..  ..  ...\n",
       "995 -22  -1  122\n",
       "996  84 -11  103\n",
       "997   3 -38    5\n",
       "998   1 -38  -49\n",
       "999  44 -43 -101\n",
       "\n",
       "[1000 rows x 3 columns]"
      ]
     },
     "execution_count": 23,
     "metadata": {},
     "output_type": "execute_result"
    }
   ],
   "source": [
    "normalization_df"
   ]
  },
  {
   "cell_type": "code",
   "execution_count": 24,
   "id": "4efcc065",
   "metadata": {},
   "outputs": [
    {
     "data": {
      "text/plain": [
       "<Figure size 432x288 with 0 Axes>"
      ]
     },
     "execution_count": 24,
     "metadata": {},
     "output_type": "execute_result"
    },
    {
     "data": {
      "image/png": "[encoded data removed]",
      "text/plain": [
       "<Figure size 432x288 with 1 Axes>"
      ]
     },
     "metadata": {
      "needs_background": "light"
     },
     "output_type": "display_data"
    },
    {
     "data": {
      "text/plain": [
       "<Figure size 432x288 with 0 Axes>"
      ]
     },
     "metadata": {},
     "output_type": "display_data"
    }
   ],
   "source": [
    "ax = plt.axes(projection='3d')\n",
    "ax.scatter3D(normalization_df.x,normalization_df.y,normalization_df.z )\n",
    "plt.figure()"
   ]
  },
  {
   "cell_type": "code",
   "execution_count": 25,
   "id": "dea24a87",
   "metadata": {},
   "outputs": [],
   "source": [
    "from sklearn.preprocessing import Normalizer"
   ]
  },
  {
   "cell_type": "code",
   "execution_count": 26,
   "id": "211a5552",
   "metadata": {},
   "outputs": [],
   "source": [
    "normal = Normalizer()"
   ]
  },
  {
   "cell_type": "code",
   "execution_count": 27,
   "id": "4a2ab371",
   "metadata": {},
   "outputs": [],
   "source": [
    "normalization_df = normal.fit_transform(normalization_df)"
   ]
  },
  {
   "cell_type": "code",
   "execution_count": 28,
   "id": "163b2038",
   "metadata": {},
   "outputs": [
    {
     "data": {
      "text/plain": [
       "array([[ 0.24525574,  0.55182541,  0.79708114],\n",
       "       [-0.2089785 , -0.50751922, -0.83591401],\n",
       "       [-0.00748817, -0.08985802, -0.99592643],\n",
       "       ...,\n",
       "       [ 0.07803403, -0.98843105,  0.13005672],\n",
       "       [ 0.01612484, -0.61274384, -0.79011706],\n",
       "       [ 0.37205395, -0.36359817, -0.85403292]])"
      ]
     },
     "execution_count": 28,
     "metadata": {},
     "output_type": "execute_result"
    }
   ],
   "source": [
    "normalization_df"
   ]
  },
  {
   "cell_type": "code",
   "execution_count": 29,
   "id": "8abb90eb",
   "metadata": {},
   "outputs": [],
   "source": [
    "norm_df = pd.DataFrame(normalization_df, columns = ['x1','y2','z3'])"
   ]
  },
  {
   "cell_type": "code",
   "execution_count": 30,
   "id": "30d81443",
   "metadata": {},
   "outputs": [
    {
     "data": {
      "text/html": [
       "<div>\n",
       "<style scoped>\n",
       "    .dataframe tbody tr th:only-of-type {\n",
       "        vertical-align: middle;\n",
       "    }\n",
       "\n",
       "    .dataframe tbody tr th {\n",
       "        vertical-align: top;\n",
       "    }\n",
       "\n",
       "    .dataframe thead th {\n",
       "        text-align: right;\n",
       "    }\n",
       "</style>\n",
       "<table border=\"1\" class=\"dataframe\">\n",
       "  <thead>\n",
       "    <tr style=\"text-align: right;\">\n",
       "      <th></th>\n",
       "      <th>x1</th>\n",
       "      <th>y2</th>\n",
       "      <th>z3</th>\n",
       "    </tr>\n",
       "  </thead>\n",
       "  <tbody>\n",
       "    <tr>\n",
       "      <th>0</th>\n",
       "      <td>0.245256</td>\n",
       "      <td>0.551825</td>\n",
       "      <td>0.797081</td>\n",
       "    </tr>\n",
       "    <tr>\n",
       "      <th>1</th>\n",
       "      <td>-0.208979</td>\n",
       "      <td>-0.507519</td>\n",
       "      <td>-0.835914</td>\n",
       "    </tr>\n",
       "    <tr>\n",
       "      <th>2</th>\n",
       "      <td>-0.007488</td>\n",
       "      <td>-0.089858</td>\n",
       "      <td>-0.995926</td>\n",
       "    </tr>\n",
       "    <tr>\n",
       "      <th>3</th>\n",
       "      <td>0.180117</td>\n",
       "      <td>-0.304814</td>\n",
       "      <td>0.935225</td>\n",
       "    </tr>\n",
       "    <tr>\n",
       "      <th>4</th>\n",
       "      <td>-0.786468</td>\n",
       "      <td>0.461623</td>\n",
       "      <td>-0.410331</td>\n",
       "    </tr>\n",
       "    <tr>\n",
       "      <th>...</th>\n",
       "      <td>...</td>\n",
       "      <td>...</td>\n",
       "      <td>...</td>\n",
       "    </tr>\n",
       "    <tr>\n",
       "      <th>995</th>\n",
       "      <td>-0.177460</td>\n",
       "      <td>-0.008066</td>\n",
       "      <td>0.984095</td>\n",
       "    </tr>\n",
       "    <tr>\n",
       "      <th>996</th>\n",
       "      <td>0.629854</td>\n",
       "      <td>-0.082481</td>\n",
       "      <td>0.772321</td>\n",
       "    </tr>\n",
       "    <tr>\n",
       "      <th>997</th>\n",
       "      <td>0.078034</td>\n",
       "      <td>-0.988431</td>\n",
       "      <td>0.130057</td>\n",
       "    </tr>\n",
       "    <tr>\n",
       "      <th>998</th>\n",
       "      <td>0.016125</td>\n",
       "      <td>-0.612744</td>\n",
       "      <td>-0.790117</td>\n",
       "    </tr>\n",
       "    <tr>\n",
       "      <th>999</th>\n",
       "      <td>0.372054</td>\n",
       "      <td>-0.363598</td>\n",
       "      <td>-0.854033</td>\n",
       "    </tr>\n",
       "  </tbody>\n",
       "</table>\n",
       "<p>1000 rows × 3 columns</p>\n",
       "</div>"
      ],
      "text/plain": [
       "           x1        y2        z3\n",
       "0    0.245256  0.551825  0.797081\n",
       "1   -0.208979 -0.507519 -0.835914\n",
       "2   -0.007488 -0.089858 -0.995926\n",
       "3    0.180117 -0.304814  0.935225\n",
       "4   -0.786468  0.461623 -0.410331\n",
       "..        ...       ...       ...\n",
       "995 -0.177460 -0.008066  0.984095\n",
       "996  0.629854 -0.082481  0.772321\n",
       "997  0.078034 -0.988431  0.130057\n",
       "998  0.016125 -0.612744 -0.790117\n",
       "999  0.372054 -0.363598 -0.854033\n",
       "\n",
       "[1000 rows x 3 columns]"
      ]
     },
     "execution_count": 30,
     "metadata": {},
     "output_type": "execute_result"
    }
   ],
   "source": [
    "norm_df"
   ]
  },
  {
   "cell_type": "code",
   "execution_count": 31,
   "id": "82277025",
   "metadata": {},
   "outputs": [
    {
     "data": {
      "text/plain": [
       "<Figure size 432x288 with 0 Axes>"
      ]
     },
     "execution_count": 31,
     "metadata": {},
     "output_type": "execute_result"
    },
    {
     "data": {
      "image/png": "[encoded data removed]",
      "text/plain": [
       "<Figure size 432x288 with 1 Axes>"
      ]
     },
     "metadata": {
      "needs_background": "light"
     },
     "output_type": "display_data"
    },
    {
     "data": {
      "text/plain": [
       "<Figure size 432x288 with 0 Axes>"
      ]
     },
     "metadata": {},
     "output_type": "display_data"
    }
   ],
   "source": [
    "ax = plt.axes(projection='3d')\n",
    "ax.scatter3D(norm_df.x1,norm_df.y2,norm_df.z3 )\n",
    "plt.figure()"
   ]
  },
  {
   "cell_type": "markdown",
   "id": "150a3fbf",
   "metadata": {},
   "source": [
    "# Missing Values"
   ]
  },
  {
   "cell_type": "code",
   "execution_count": 32,
   "id": "609b047c",
   "metadata": {},
   "outputs": [],
   "source": [
    "Data1 = {'First Score':[100,90,np.nan,95],\n",
    "         'Second Score':[30,45,56,np.nan],\n",
    "        'Thired Score':[np.nan,40,80,98],\n",
    "        'Forth Score':[np.nan,np.nan,np.nan,90]}"
   ]
  },
  {
   "cell_type": "code",
   "execution_count": 33,
   "id": "bfc4d2c3",
   "metadata": {},
   "outputs": [],
   "source": [
    "score = pd.DataFrame(Data1)"
   ]
  },
  {
   "cell_type": "code",
   "execution_count": 34,
   "id": "91b3a13a",
   "metadata": {},
   "outputs": [
    {
     "data": {
      "text/html": [
       "<div>\n",
       "<style scoped>\n",
       "    .dataframe tbody tr th:only-of-type {\n",
       "        vertical-align: middle;\n",
       "    }\n",
       "\n",
       "    .dataframe tbody tr th {\n",
       "        vertical-align: top;\n",
       "    }\n",
       "\n",
       "    .dataframe thead th {\n",
       "        text-align: right;\n",
       "    }\n",
       "</style>\n",
       "<table border=\"1\" class=\"dataframe\">\n",
       "  <thead>\n",
       "    <tr style=\"text-align: right;\">\n",
       "      <th></th>\n",
       "      <th>First Score</th>\n",
       "      <th>Second Score</th>\n",
       "      <th>Thired Score</th>\n",
       "      <th>Forth Score</th>\n",
       "    </tr>\n",
       "  </thead>\n",
       "  <tbody>\n",
       "    <tr>\n",
       "      <th>0</th>\n",
       "      <td>100.0</td>\n",
       "      <td>30.0</td>\n",
       "      <td>NaN</td>\n",
       "      <td>NaN</td>\n",
       "    </tr>\n",
       "    <tr>\n",
       "      <th>1</th>\n",
       "      <td>90.0</td>\n",
       "      <td>45.0</td>\n",
       "      <td>40.0</td>\n",
       "      <td>NaN</td>\n",
       "    </tr>\n",
       "    <tr>\n",
       "      <th>2</th>\n",
       "      <td>NaN</td>\n",
       "      <td>56.0</td>\n",
       "      <td>80.0</td>\n",
       "      <td>NaN</td>\n",
       "    </tr>\n",
       "    <tr>\n",
       "      <th>3</th>\n",
       "      <td>95.0</td>\n",
       "      <td>NaN</td>\n",
       "      <td>98.0</td>\n",
       "      <td>90.0</td>\n",
       "    </tr>\n",
       "  </tbody>\n",
       "</table>\n",
       "</div>"
      ],
      "text/plain": [
       "   First Score  Second Score  Thired Score  Forth Score\n",
       "0        100.0          30.0           NaN          NaN\n",
       "1         90.0          45.0          40.0          NaN\n",
       "2          NaN          56.0          80.0          NaN\n",
       "3         95.0           NaN          98.0         90.0"
      ]
     },
     "execution_count": 34,
     "metadata": {},
     "output_type": "execute_result"
    }
   ],
   "source": [
    "score"
   ]
  },
  {
   "cell_type": "code",
   "execution_count": 35,
   "id": "476c387b",
   "metadata": {},
   "outputs": [
    {
     "data": {
      "text/html": [
       "<div>\n",
       "<style scoped>\n",
       "    .dataframe tbody tr th:only-of-type {\n",
       "        vertical-align: middle;\n",
       "    }\n",
       "\n",
       "    .dataframe tbody tr th {\n",
       "        vertical-align: top;\n",
       "    }\n",
       "\n",
       "    .dataframe thead th {\n",
       "        text-align: right;\n",
       "    }\n",
       "</style>\n",
       "<table border=\"1\" class=\"dataframe\">\n",
       "  <thead>\n",
       "    <tr style=\"text-align: right;\">\n",
       "      <th></th>\n",
       "      <th>First Score</th>\n",
       "      <th>Second Score</th>\n",
       "      <th>Thired Score</th>\n",
       "      <th>Forth Score</th>\n",
       "    </tr>\n",
       "  </thead>\n",
       "  <tbody>\n",
       "    <tr>\n",
       "      <th>0</th>\n",
       "      <td>False</td>\n",
       "      <td>False</td>\n",
       "      <td>True</td>\n",
       "      <td>True</td>\n",
       "    </tr>\n",
       "    <tr>\n",
       "      <th>1</th>\n",
       "      <td>False</td>\n",
       "      <td>False</td>\n",
       "      <td>False</td>\n",
       "      <td>True</td>\n",
       "    </tr>\n",
       "    <tr>\n",
       "      <th>2</th>\n",
       "      <td>True</td>\n",
       "      <td>False</td>\n",
       "      <td>False</td>\n",
       "      <td>True</td>\n",
       "    </tr>\n",
       "    <tr>\n",
       "      <th>3</th>\n",
       "      <td>False</td>\n",
       "      <td>True</td>\n",
       "      <td>False</td>\n",
       "      <td>False</td>\n",
       "    </tr>\n",
       "  </tbody>\n",
       "</table>\n",
       "</div>"
      ],
      "text/plain": [
       "   First Score  Second Score  Thired Score  Forth Score\n",
       "0        False         False          True         True\n",
       "1        False         False         False         True\n",
       "2         True         False         False         True\n",
       "3        False          True         False        False"
      ]
     },
     "execution_count": 35,
     "metadata": {},
     "output_type": "execute_result"
    }
   ],
   "source": [
    "score.isnull()"
   ]
  },
  {
   "cell_type": "code",
   "execution_count": 36,
   "id": "e1ed962b",
   "metadata": {},
   "outputs": [
    {
     "data": {
      "text/plain": [
       "First Score     1\n",
       "Second Score    1\n",
       "Thired Score    1\n",
       "Forth Score     3\n",
       "dtype: int64"
      ]
     },
     "execution_count": 36,
     "metadata": {},
     "output_type": "execute_result"
    }
   ],
   "source": [
    "score.isnull().sum()"
   ]
  },
  {
   "cell_type": "code",
   "execution_count": 37,
   "id": "1a986bd9",
   "metadata": {},
   "outputs": [],
   "source": [
    "from sklearn.impute import SimpleImputer"
   ]
  },
  {
   "cell_type": "code",
   "execution_count": 38,
   "id": "2e853b39",
   "metadata": {},
   "outputs": [],
   "source": [
    "imputer = SimpleImputer(missing_values=np.nan,strategy='mean')"
   ]
  },
  {
   "cell_type": "code",
   "execution_count": 39,
   "id": "67cd8fa1",
   "metadata": {},
   "outputs": [
    {
     "data": {
      "text/plain": [
       "SimpleImputer()"
      ]
     },
     "execution_count": 39,
     "metadata": {},
     "output_type": "execute_result"
    }
   ],
   "source": [
    "imputer.fit(score)"
   ]
  },
  {
   "cell_type": "code",
   "execution_count": 40,
   "id": "e8b1adcc",
   "metadata": {},
   "outputs": [
    {
     "data": {
      "text/plain": [
       "array([[100.        ,  30.        ,  72.66666667,  90.        ],\n",
       "       [ 90.        ,  45.        ,  40.        ,  90.        ],\n",
       "       [ 95.        ,  56.        ,  80.        ,  90.        ],\n",
       "       [ 95.        ,  43.66666667,  98.        ,  90.        ]])"
      ]
     },
     "execution_count": 40,
     "metadata": {},
     "output_type": "execute_result"
    }
   ],
   "source": [
    "imputer.transform(score)"
   ]
  },
  {
   "cell_type": "code",
   "execution_count": null,
   "id": "926b3123",
   "metadata": {},
   "outputs": [],
   "source": []
  }
 ],
 "metadata": {
  "kernelspec": {
   "display_name": "Python 3 (ipykernel)",
   "language": "python",
   "name": "python3"
  },
  "language_info": {
   "codemirror_mode": {
    "name": "ipython",
    "version": 3
   },
   "file_extension": ".py",
   "mimetype": "text/x-python",
   "name": "python",
   "nbconvert_exporter": "python",
   "pygments_lexer": "ipython3",
   "version": "3.9.7"
  }
 },
 "nbformat": 4,
 "nbformat_minor": 5
}
